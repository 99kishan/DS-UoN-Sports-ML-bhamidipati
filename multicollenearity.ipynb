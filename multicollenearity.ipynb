{
 "cells": [
  {
   "cell_type": "code",
   "execution_count": 1,
   "metadata": {},
   "outputs": [],
   "source": [
    "import sys\n",
    "import os\n",
    "\n",
    "import pandas as pd\n",
    "import numpy as np\n",
    "import matplotlib.pyplot as plt\n",
    "import seaborn as sns\n",
    "from sklearn.preprocessing import StandardScaler\n",
    "from sklearn.decomposition import PCA\n",
    "from sklearn.cluster import KMeans\n",
    "from sklearn.metrics import silhouette_score\n",
    "from sklearn.metrics import davies_bouldin_score\n",
    "from sklearn.model_selection import KFold, cross_val_score, GridSearchCV, StratifiedKFold, RandomizedSearchCV, StratifiedShuffleSplit\n",
    "from imblearn.over_sampling import SMOTE\n",
    "from imblearn.under_sampling import RandomUnderSampler\n",
    "import shap \n",
    "from sklearn.feature_selection import mutual_info_classif, RFE, SelectKBest, chi2, f_classif, SelectFromModel\n",
    "\n",
    "\n",
    "from sklearn.linear_model import LogisticRegression, LogisticRegressionCV\n",
    "from sklearn.ensemble import RandomForestClassifier\n",
    "import xgboost as xgb\n",
    "from sklearn.svm import SVC\n",
    "from sklearn.neighbors import KNeighborsClassifier\n",
    "from sklearn.naive_bayes import GaussianNB\n",
    "from sklearn.tree import DecisionTreeClassifier\n",
    "from sklearn.ensemble import GradientBoostingClassifier,  VotingClassifier, AdaBoostClassifier, BaggingClassifier, RandomForestClassifier\n",
    "\n",
    "\n",
    "from sklearn.model_selection import train_test_split\n",
    "from sklearn.metrics import accuracy_score\n",
    "from sklearn.metrics import confusion_matrix\n",
    "from sklearn.metrics import classification_report\n",
    "from sklearn.metrics import roc_auc_score\n",
    "from sklearn.metrics import roc_curve\n",
    "from sklearn.metrics import accuracy_score, precision_score, recall_score, f1_score, roc_auc_score, confusion_matrix, auc\n",
    "\n",
    "\n",
    "import torch\n",
    "import torch.nn as nn\n",
    "import torch.optim as optim\n",
    "from torch.utils.data import DataLoader, TensorDataset\n",
    "import statsmodels.api as sma\n",
    "from statsmodels.stats.outliers_influence import variance_inflation_factor\n",
    "\n"
   ]
  },
  {
   "cell_type": "code",
   "execution_count": 2,
   "metadata": {},
   "outputs": [],
   "source": [
    "df = pd.read_csv(\"C:/Users/kisha/Documents/Uni-Stuff/Dissertation/books/git/data_cleaned_no_weight.csv\")\n",
    "X = df.drop(columns=['Winner'])\n",
    "y= df['Winner']\n",
    "\n",
    "X_train, X_test, y_train, y_test = train_test_split(X, y, test_size=0.45, random_state=42)\n",
    "\n",
    "# #oversampling minority class\n",
    "# smote = SMOTE(sampling_strategy='minority')\n",
    "# X_train, y_train = smote.fit_resample(X_train, y_train)\n",
    "\n",
    "# scaler = StandardScaler()\n",
    "# X_train = scaler.fit_transform(X_train)\n",
    "# X_test = scaler.transform(X_test)"
   ]
  },
  {
   "cell_type": "code",
   "execution_count": 3,
   "metadata": {},
   "outputs": [],
   "source": [
    "features = df.drop(columns=['Winner'])"
   ]
  },
  {
   "cell_type": "code",
   "execution_count": 4,
   "metadata": {},
   "outputs": [
    {
     "data": {
      "text/plain": [
       "title_bout                int64\n",
       "no_of_rounds              int64\n",
       "B_avg_KD                float64\n",
       "B_avg_opp_KD            float64\n",
       "B_avg_SIG_STR_pct       float64\n",
       "                         ...   \n",
       "B_Stance_Switch            bool\n",
       "R_Stance_Open Stance       bool\n",
       "R_Stance_Orthodox          bool\n",
       "R_Stance_Southpaw          bool\n",
       "R_Stance_Switch            bool\n",
       "Length: 145, dtype: object"
      ]
     },
     "execution_count": 4,
     "metadata": {},
     "output_type": "execute_result"
    }
   ],
   "source": [
    "features.dtypes"
   ]
  },
  {
   "cell_type": "code",
   "execution_count": 5,
   "metadata": {},
   "outputs": [
    {
     "name": "stdout",
     "output_type": "stream",
     "text": [
      "title_bout              0\n",
      "no_of_rounds            0\n",
      "B_avg_KD                0\n",
      "B_avg_opp_KD            0\n",
      "B_avg_SIG_STR_pct       0\n",
      "                       ..\n",
      "B_Stance_Switch         0\n",
      "R_Stance_Open Stance    0\n",
      "R_Stance_Orthodox       0\n",
      "R_Stance_Southpaw       0\n",
      "R_Stance_Switch         0\n",
      "Length: 145, dtype: int64\n",
      "title_bout              0\n",
      "no_of_rounds            0\n",
      "B_avg_KD                0\n",
      "B_avg_opp_KD            0\n",
      "B_avg_SIG_STR_pct       0\n",
      "                       ..\n",
      "B_Stance_Switch         0\n",
      "R_Stance_Open Stance    0\n",
      "R_Stance_Orthodox       0\n",
      "R_Stance_Southpaw       0\n",
      "R_Stance_Switch         0\n",
      "Length: 145, dtype: int64\n"
     ]
    }
   ],
   "source": [
    "print(features.isna().sum())\n",
    "\n",
    "# Check for infinite values\n",
    "print(np.isinf(features).sum())"
   ]
  },
  {
   "cell_type": "code",
   "execution_count": 6,
   "metadata": {},
   "outputs": [],
   "source": [
    "features = features.apply(pd.to_numeric, errors='coerce')\n"
   ]
  },
  {
   "cell_type": "code",
   "execution_count": 7,
   "metadata": {},
   "outputs": [
    {
     "data": {
      "text/plain": [
       "title_bout                int64\n",
       "no_of_rounds              int64\n",
       "B_avg_KD                float64\n",
       "B_avg_opp_KD            float64\n",
       "B_avg_SIG_STR_pct       float64\n",
       "                         ...   \n",
       "B_Stance_Switch            bool\n",
       "R_Stance_Open Stance       bool\n",
       "R_Stance_Orthodox          bool\n",
       "R_Stance_Southpaw          bool\n",
       "R_Stance_Switch            bool\n",
       "Length: 145, dtype: object"
      ]
     },
     "execution_count": 7,
     "metadata": {},
     "output_type": "execute_result"
    }
   ],
   "source": [
    "features.dtypes"
   ]
  },
  {
   "cell_type": "code",
   "execution_count": 8,
   "metadata": {},
   "outputs": [],
   "source": [
    "categorical_columns = features.select_dtypes(include=['bool', 'object']).columns\n",
    "\n",
    "# Drop the categorical columns\n",
    "features_numerical = features.drop(columns=categorical_columns)"
   ]
  },
  {
   "cell_type": "code",
   "execution_count": 9,
   "metadata": {},
   "outputs": [
    {
     "name": "stderr",
     "output_type": "stream",
     "text": [
      "c:\\Program Files\\Python312\\Lib\\site-packages\\statsmodels\\regression\\linear_model.py:1783: RuntimeWarning: invalid value encountered in scalar divide\n",
      "  return 1 - self.ssr/self.centered_tss\n"
     ]
    },
    {
     "name": "stdout",
     "output_type": "stream",
     "text": [
      "               Feature        VIF\n",
      "0           title_bout   1.944659\n",
      "1         no_of_rounds   2.135400\n",
      "2             B_avg_KD   1.475868\n",
      "3         B_avg_opp_KD   1.297556\n",
      "4    B_avg_SIG_STR_pct   1.942018\n",
      "..                 ...        ...\n",
      "131       R_Height_cms   6.619507\n",
      "132        R_Reach_cms   5.708666\n",
      "133       R_Weight_lbs  10.955959\n",
      "134              B_age   1.410912\n",
      "135              R_age   1.672330\n",
      "\n",
      "[136 rows x 2 columns]\n"
     ]
    }
   ],
   "source": [
    "features_with_constant = sma.add_constant(features_numerical)\n",
    "\n",
    "# Calculate VIF for each feature\n",
    "vif_data = pd.DataFrame()\n",
    "vif_data[\"Feature\"] = features_numerical.columns\n",
    "vif_data[\"VIF\"] = [variance_inflation_factor(features_with_constant.values, i + 1) for i in range(features_numerical.shape[1])]\n",
    "\n",
    "# Display the VIFs\n",
    "print(vif_data)"
   ]
  },
  {
   "cell_type": "code",
   "execution_count": 10,
   "metadata": {},
   "outputs": [
    {
     "data": {
      "text/plain": [
       "['B_avg_SIG_STR_att',\n",
       " 'B_avg_SIG_STR_landed',\n",
       " 'B_avg_opp_SIG_STR_att',\n",
       " 'B_avg_opp_SIG_STR_landed',\n",
       " 'B_avg_TOTAL_STR_att',\n",
       " 'B_avg_TOTAL_STR_landed',\n",
       " 'B_avg_opp_TOTAL_STR_att',\n",
       " 'B_avg_opp_TOTAL_STR_landed',\n",
       " 'B_avg_HEAD_att',\n",
       " 'B_avg_HEAD_landed',\n",
       " 'B_avg_opp_HEAD_att',\n",
       " 'B_avg_opp_HEAD_landed',\n",
       " 'B_avg_BODY_att',\n",
       " 'B_avg_BODY_landed',\n",
       " 'B_avg_opp_BODY_att',\n",
       " 'B_avg_opp_BODY_landed',\n",
       " 'B_avg_LEG_att',\n",
       " 'B_avg_LEG_landed',\n",
       " 'B_avg_opp_LEG_att',\n",
       " 'B_avg_opp_LEG_landed',\n",
       " 'B_avg_DISTANCE_att',\n",
       " 'B_avg_DISTANCE_landed',\n",
       " 'B_avg_opp_DISTANCE_att',\n",
       " 'B_avg_opp_DISTANCE_landed',\n",
       " 'B_avg_CLINCH_att',\n",
       " 'B_avg_CLINCH_landed',\n",
       " 'B_avg_opp_CLINCH_att',\n",
       " 'B_avg_opp_CLINCH_landed',\n",
       " 'B_avg_GROUND_att',\n",
       " 'B_avg_GROUND_landed',\n",
       " 'B_avg_opp_GROUND_att',\n",
       " 'B_avg_opp_GROUND_landed',\n",
       " 'B_total_rounds_fought',\n",
       " 'B_wins',\n",
       " 'B_losses',\n",
       " 'B_win_by_Decision_Split',\n",
       " 'B_win_by_Decision_Unanimous',\n",
       " 'B_win_by_KO/TKO',\n",
       " 'B_win_by_Submission',\n",
       " 'B_win_by_TKO_Doctor_Stoppage',\n",
       " 'B_Weight_lbs',\n",
       " 'R_avg_SIG_STR_att',\n",
       " 'R_avg_SIG_STR_landed',\n",
       " 'R_avg_opp_SIG_STR_att',\n",
       " 'R_avg_opp_SIG_STR_landed',\n",
       " 'R_avg_TOTAL_STR_att',\n",
       " 'R_avg_TOTAL_STR_landed',\n",
       " 'R_avg_opp_TOTAL_STR_att',\n",
       " 'R_avg_opp_TOTAL_STR_landed',\n",
       " 'R_avg_HEAD_att',\n",
       " 'R_avg_HEAD_landed',\n",
       " 'R_avg_opp_HEAD_att',\n",
       " 'R_avg_opp_HEAD_landed',\n",
       " 'R_avg_BODY_att',\n",
       " 'R_avg_BODY_landed',\n",
       " 'R_avg_opp_BODY_att',\n",
       " 'R_avg_opp_BODY_landed',\n",
       " 'R_avg_LEG_att',\n",
       " 'R_avg_LEG_landed',\n",
       " 'R_avg_opp_LEG_att',\n",
       " 'R_avg_opp_LEG_landed',\n",
       " 'R_avg_DISTANCE_att',\n",
       " 'R_avg_DISTANCE_landed',\n",
       " 'R_avg_opp_DISTANCE_att',\n",
       " 'R_avg_opp_DISTANCE_landed',\n",
       " 'R_avg_CLINCH_att',\n",
       " 'R_avg_CLINCH_landed',\n",
       " 'R_avg_opp_CLINCH_att',\n",
       " 'R_avg_opp_CLINCH_landed',\n",
       " 'R_avg_GROUND_att',\n",
       " 'R_avg_GROUND_landed',\n",
       " 'R_avg_opp_GROUND_att',\n",
       " 'R_avg_opp_GROUND_landed',\n",
       " 'R_total_rounds_fought',\n",
       " 'R_wins',\n",
       " 'R_losses',\n",
       " 'R_win_by_Decision_Split',\n",
       " 'R_win_by_Decision_Unanimous',\n",
       " 'R_win_by_KO/TKO',\n",
       " 'R_win_by_Submission',\n",
       " 'R_win_by_TKO_Doctor_Stoppage',\n",
       " 'R_Weight_lbs']"
      ]
     },
     "execution_count": 10,
     "metadata": {},
     "output_type": "execute_result"
    }
   ],
   "source": [
    "#features with VIF > 10\n",
    "features_high_vif = vif_data[vif_data['VIF'] > 10]\n",
    "features_high_vif\n",
    "\n",
    "#putting them in a list for better readability\n",
    "features_high_vif_list = list(features_high_vif['Feature'])\n",
    "features_high_vif_list"
   ]
  },
  {
   "cell_type": "code",
   "execution_count": 11,
   "metadata": {},
   "outputs": [
    {
     "name": "stdout",
     "output_type": "stream",
     "text": [
      "                   title_bout  no_of_rounds  B_avg_KD  B_avg_opp_KD  \\\n",
      "title_bout           1.000000      0.617936  0.096560     -0.038431   \n",
      "no_of_rounds         0.617936      1.000000  0.169399     -0.000093   \n",
      "B_avg_KD             0.096560      0.169399  1.000000     -0.036863   \n",
      "B_avg_opp_KD        -0.038431     -0.000093 -0.036863      1.000000   \n",
      "B_avg_SIG_STR_pct    0.064935      0.079720  0.132166     -0.133168   \n",
      "...                       ...           ...       ...           ...   \n",
      "R_Height_cms         0.005974      0.042395  0.081372      0.084710   \n",
      "R_Reach_cms          0.022647      0.065818  0.100163      0.078117   \n",
      "R_Weight_lbs         0.039781      0.068914  0.087277      0.067718   \n",
      "B_age                0.037049      0.139914  0.042549      0.154729   \n",
      "R_age                0.007678      0.120000  0.088272      0.037698   \n",
      "\n",
      "                   B_avg_SIG_STR_pct  B_avg_opp_SIG_STR_pct  B_avg_TD_pct  \\\n",
      "title_bout                  0.064935              -0.072812      0.049517   \n",
      "no_of_rounds                0.079720              -0.065175      0.014981   \n",
      "B_avg_KD                    0.132166              -0.156198     -0.078985   \n",
      "B_avg_opp_KD               -0.133168               0.178053     -0.071541   \n",
      "B_avg_SIG_STR_pct           1.000000              -0.013270      0.135881   \n",
      "...                              ...                    ...           ...   \n",
      "R_Height_cms                0.059113               0.044845     -0.063406   \n",
      "R_Reach_cms                 0.065708               0.032005     -0.054339   \n",
      "R_Weight_lbs                0.089456               0.040230     -0.057458   \n",
      "B_age                       0.032380               0.059168     -0.064739   \n",
      "R_age                       0.064583               0.021822     -0.029560   \n",
      "\n",
      "                   B_avg_opp_TD_pct  B_avg_SUB_ATT  B_avg_opp_SUB_ATT  ...  \\\n",
      "title_bout                -0.064828       0.001418          -0.020908  ...   \n",
      "no_of_rounds              -0.073303      -0.015093          -0.038928  ...   \n",
      "B_avg_KD                  -0.125958      -0.064905          -0.032949  ...   \n",
      "B_avg_opp_KD              -0.023328      -0.031995          -0.008825  ...   \n",
      "B_avg_SIG_STR_pct         -0.077945       0.051532          -0.021716  ...   \n",
      "...                             ...            ...                ...  ...   \n",
      "R_Height_cms              -0.048969      -0.045363          -0.049620  ...   \n",
      "R_Reach_cms               -0.054257      -0.048525          -0.045132  ...   \n",
      "R_Weight_lbs              -0.067681      -0.066121          -0.068572  ...   \n",
      "B_age                     -0.015816      -0.079382          -0.023825  ...   \n",
      "R_age                     -0.066655      -0.051810          -0.068643  ...   \n",
      "\n",
      "                   R_win_by_Decision_Split  R_win_by_Decision_Unanimous  \\\n",
      "title_bout                        0.025655                     0.119056   \n",
      "no_of_rounds                      0.077844                     0.255865   \n",
      "B_avg_KD                          0.065881                     0.155426   \n",
      "B_avg_opp_KD                      0.013335                     0.000453   \n",
      "B_avg_SIG_STR_pct                 0.022061                     0.080624   \n",
      "...                                    ...                          ...   \n",
      "R_Height_cms                     -0.094005                    -0.083508   \n",
      "R_Reach_cms                      -0.078608                    -0.055455   \n",
      "R_Weight_lbs                     -0.089090                    -0.088325   \n",
      "B_age                             0.094826                     0.150942   \n",
      "R_age                             0.258689                     0.365228   \n",
      "\n",
      "                   R_win_by_KO/TKO  R_win_by_Submission  \\\n",
      "title_bout                0.153216             0.078059   \n",
      "no_of_rounds              0.348222             0.132635   \n",
      "B_avg_KD                  0.185134             0.085028   \n",
      "B_avg_opp_KD              0.057546             0.004666   \n",
      "B_avg_SIG_STR_pct         0.094224             0.045516   \n",
      "...                            ...                  ...   \n",
      "R_Height_cms              0.242654             0.048889   \n",
      "R_Reach_cms               0.263752             0.069358   \n",
      "R_Weight_lbs              0.273764             0.007429   \n",
      "B_age                     0.227922             0.107827   \n",
      "R_age                     0.400467             0.215631   \n",
      "\n",
      "                   R_win_by_TKO_Doctor_Stoppage  R_Height_cms  R_Reach_cms  \\\n",
      "title_bout                             0.042294      0.005974     0.022647   \n",
      "no_of_rounds                           0.065600      0.042395     0.065818   \n",
      "B_avg_KD                               0.037310      0.081372     0.100163   \n",
      "B_avg_opp_KD                          -0.007097      0.084710     0.078117   \n",
      "B_avg_SIG_STR_pct                      0.032490      0.059113     0.065708   \n",
      "...                                         ...           ...          ...   \n",
      "R_Height_cms                           0.031589      1.000000     0.895401   \n",
      "R_Reach_cms                            0.071704      0.895401     1.000000   \n",
      "R_Weight_lbs                           0.059046      0.804826     0.772986   \n",
      "B_age                                  0.060299      0.131485     0.138421   \n",
      "R_age                                  0.115374      0.070185     0.081625   \n",
      "\n",
      "                   R_Weight_lbs     B_age     R_age  \n",
      "title_bout             0.039781  0.037049  0.007678  \n",
      "no_of_rounds           0.068914  0.139914  0.120000  \n",
      "B_avg_KD               0.087277  0.042549  0.088272  \n",
      "B_avg_opp_KD           0.067718  0.154729  0.037698  \n",
      "B_avg_SIG_STR_pct      0.089456  0.032380  0.064583  \n",
      "...                         ...       ...       ...  \n",
      "R_Height_cms           0.804826  0.131485  0.070185  \n",
      "R_Reach_cms            0.772986  0.138421  0.081625  \n",
      "R_Weight_lbs           1.000000  0.178248  0.159412  \n",
      "B_age                  0.178248  1.000000  0.196773  \n",
      "R_age                  0.159412  0.196773  1.000000  \n",
      "\n",
      "[136 rows x 136 columns]\n"
     ]
    }
   ],
   "source": [
    "corr_matrix = features_numerical.corr()\n",
    "print(corr_matrix)"
   ]
  },
  {
   "cell_type": "code",
   "execution_count": 12,
   "metadata": {},
   "outputs": [
    {
     "name": "stdout",
     "output_type": "stream",
     "text": [
      "                        Feature  Mutual_Info\n",
      "85   R_avg_opp_TOTAL_STR_landed     0.021943\n",
      "111         R_avg_GROUND_landed     0.020732\n",
      "19   B_avg_opp_TOTAL_STR_landed     0.020590\n",
      "25            B_avg_HEAD_landed     0.019827\n",
      "81     R_avg_opp_SIG_STR_landed     0.019827\n",
      "..                          ...          ...\n",
      "78            R_avg_SIG_STR_att     0.000000\n",
      "79         R_avg_SIG_STR_landed     0.000000\n",
      "84      R_avg_opp_TOTAL_STR_att     0.000000\n",
      "106            R_avg_CLINCH_att     0.000000\n",
      "144             R_Stance_Switch     0.000000\n",
      "\n",
      "[145 rows x 2 columns]\n"
     ]
    }
   ],
   "source": [
    "mi_scores = mutual_info_classif(X_train, y_train)\n",
    "\n",
    "mi_scores_df = pd.DataFrame({\n",
    "    'Feature': X_train.columns,\n",
    "    'Mutual_Info': mi_scores\n",
    "})\n",
    "\n",
    "mi_scores_df = mi_scores_df.sort_values(by='Mutual_Info', ascending=False)\n",
    "\n",
    "# Display the MI scores\n",
    "print(mi_scores_df)"
   ]
  },
  {
   "cell_type": "code",
   "execution_count": 13,
   "metadata": {},
   "outputs": [],
   "source": [
    "#merging vif and mi scores into one dataframe\n",
    "comparison_df = pd.merge(vif_data, mi_scores_df, on='Feature')\n",
    "#vif_mi_df\n",
    "\n",
    "high_vif_threshold = 10\n",
    "low_mi_threshold = comparison_df['Mutual_Info'].quantile(0.40)  # Below the 25th percentile\n"
   ]
  },
  {
   "cell_type": "code",
   "execution_count": 14,
   "metadata": {},
   "outputs": [
    {
     "name": "stdout",
     "output_type": "stream",
     "text": [
      "Dropped features: ['B_avg_SIG_STR_att', 'B_avg_SIG_STR_landed', 'B_avg_opp_SIG_STR_att', 'B_avg_TOTAL_STR_landed', 'B_avg_opp_HEAD_att', 'B_avg_BODY_landed', 'B_avg_opp_DISTANCE_landed', 'B_avg_opp_CLINCH_landed', 'B_avg_GROUND_landed', 'B_avg_opp_GROUND_att', 'B_avg_opp_GROUND_landed', 'B_total_rounds_fought', 'B_wins', 'B_losses', 'B_win_by_Decision_Unanimous', 'B_win_by_Submission', 'B_win_by_TKO_Doctor_Stoppage', 'R_avg_SIG_STR_att', 'R_avg_SIG_STR_landed', 'R_avg_opp_TOTAL_STR_att', 'R_avg_BODY_landed', 'R_avg_CLINCH_att', 'R_avg_CLINCH_landed', 'R_avg_opp_CLINCH_att', 'R_avg_opp_CLINCH_landed', 'R_avg_opp_GROUND_att', 'R_avg_opp_GROUND_landed', 'R_wins', 'R_win_by_Decision_Unanimous', 'R_win_by_Submission']\n"
     ]
    }
   ],
   "source": [
    "features_to_drop = comparison_df[(comparison_df['VIF'] > high_vif_threshold) & (comparison_df['Mutual_Info'] < low_mi_threshold)]['Feature']\n",
    "\n",
    "X_train = X_train.drop(columns=features_to_drop)\n",
    "X_test = X_test.drop(columns=features_to_drop)\n",
    "\n",
    "print(f\"Dropped features: {features_to_drop.tolist()}\")"
   ]
  },
  {
   "cell_type": "code",
   "execution_count": 15,
   "metadata": {},
   "outputs": [
    {
     "data": {
      "text/plain": [
       "Winner\n",
       "0    2602\n",
       "1    1442\n",
       "Name: count, dtype: int64"
      ]
     },
     "execution_count": 15,
     "metadata": {},
     "output_type": "execute_result"
    }
   ],
   "source": [
    "#X_train_reduced class imbalance\n",
    "y_train.value_counts()"
   ]
  },
  {
   "cell_type": "code",
   "execution_count": 16,
   "metadata": {},
   "outputs": [
    {
     "data": {
      "text/plain": [
       "Winner\n",
       "0    2602\n",
       "1    2602\n",
       "Name: count, dtype: int64"
      ]
     },
     "execution_count": 16,
     "metadata": {},
     "output_type": "execute_result"
    }
   ],
   "source": [
    "#oversampling minority class\n",
    "smote = SMOTE(sampling_strategy='minority')\n",
    "X_train, y_train = smote.fit_resample(X_train, y_train)\n",
    "\n",
    "\n",
    "y_train.value_counts()"
   ]
  },
  {
   "cell_type": "code",
   "execution_count": 17,
   "metadata": {},
   "outputs": [],
   "source": [
    "\n",
    "#scaling\n",
    "scaler = StandardScaler()\n",
    "X_train = scaler.fit_transform(X_train)\n",
    "X_test = scaler.transform(X_test)"
   ]
  },
  {
   "cell_type": "code",
   "execution_count": 18,
   "metadata": {},
   "outputs": [
    {
     "name": "stdout",
     "output_type": "stream",
     "text": [
      "Accuracy:  0.6557872469023874\n",
      "Precision:  0.5264830508474576\n",
      "Recall:  0.4179983179142136\n",
      "F1:  0.46601031411157995\n",
      "ROC AUC: 0.60357463065522\n",
      "Confusion Matrix: \n",
      " [[1673  447]\n",
      " [ 692  497]]\n",
      "Classification Report: \n",
      "               precision    recall  f1-score   support\n",
      "\n",
      "           0       0.71      0.79      0.75      2120\n",
      "           1       0.53      0.42      0.47      1189\n",
      "\n",
      "    accuracy                           0.66      3309\n",
      "   macro avg       0.62      0.60      0.61      3309\n",
      "weighted avg       0.64      0.66      0.65      3309\n",
      "\n"
     ]
    }
   ],
   "source": [
    "model_lr = LogisticRegression(\n",
    "    C=100,\n",
    "    class_weight=None,\n",
    "    max_iter=10000,\n",
    "    penalty='l1',\n",
    "    solver='liblinear'\n",
    ")\n",
    "\n",
    "#evaluating model\n",
    "model_lr.fit(X_train, y_train)\n",
    "y_pred_lr = model_lr.predict(X_test)\n",
    "y_pred_prob_lr = model_lr.predict_proba(X_test)[:,1]\n",
    "\n",
    "print('Accuracy: ', accuracy_score(y_test, y_pred_lr))\n",
    "print('Precision: ', precision_score(y_test, y_pred_lr))\n",
    "print('Recall: ', recall_score(y_test, y_pred_lr))\n",
    "print('F1: ', f1_score(y_test, y_pred_lr))\n",
    "print('ROC AUC:', roc_auc_score(y_test, y_pred_lr))\n",
    "print('Confusion Matrix: \\n', confusion_matrix(y_test, y_pred_lr))\n",
    "print('Classification Report: \\n', classification_report(y_test, y_pred_lr))"
   ]
  },
  {
   "cell_type": "code",
   "execution_count": 19,
   "metadata": {},
   "outputs": [
    {
     "data": {
      "text/plain": [
       "['model_lr_vif.pkl']"
      ]
     },
     "execution_count": 19,
     "metadata": {},
     "output_type": "execute_result"
    }
   ],
   "source": [
    "#saving model\n",
    "import joblib\n",
    "joblib.dump(model_lr, 'model_lr_vif.pkl')"
   ]
  },
  {
   "cell_type": "code",
   "execution_count": 25,
   "metadata": {},
   "outputs": [],
   "source": [
    "\n",
    "best_logistic = joblib.load(\"C:/Users/kisha/Documents/Uni-Stuff/Dissertation/books/git/DS-UoN-Sports-ML-bhamidipati/savedModels/best_model_lr.pkl\")"
   ]
  },
  {
   "cell_type": "code",
   "execution_count": 26,
   "metadata": {},
   "outputs": [],
   "source": [
    "df_actual = pd.read_csv(\"C:/Users/kisha/Documents/Uni-Stuff/Dissertation/books/git/data_cleaned_no_weight.csv\")\n",
    "X_actual = df_actual.drop(columns=['Winner'])\n",
    "y_actual = df_actual['Winner']\n",
    "\n",
    "#split\n",
    "X_train_actual, X_test_actual, y_train_actual, y_test_actual = train_test_split(X_actual, y_actual, test_size=0.45, random_state=42)\n",
    "\n",
    "#smote\n",
    "smote = SMOTE(sampling_strategy='minority', random_state=42)\n",
    "X_train_actual, y_train_actual = smote.fit_resample(X_train_actual, y_train_actual)\n",
    "\n",
    "#scaling\n",
    "scaler = StandardScaler()\n",
    "X_train_actual = scaler.fit_transform(X_train_actual)\n",
    "X_test_actual = scaler.transform(X_test_actual)\n"
   ]
  },
  {
   "cell_type": "code",
   "execution_count": 27,
   "metadata": {},
   "outputs": [
    {
     "name": "stdout",
     "output_type": "stream",
     "text": [
      "Accuracy:  0.670897552130553\n",
      "Precision:  0.5536480686695279\n",
      "Recall:  0.4339781328847771\n",
      "F1:  0.48656294200848654\n",
      "ROC AUC: 0.6188758588952188\n",
      "Confusion Matrix: \n",
      " [[1704  416]\n",
      " [ 673  516]]\n",
      "Classification Report: \n",
      "               precision    recall  f1-score   support\n",
      "\n",
      "           0       0.72      0.80      0.76      2120\n",
      "           1       0.55      0.43      0.49      1189\n",
      "\n",
      "    accuracy                           0.67      3309\n",
      "   macro avg       0.64      0.62      0.62      3309\n",
      "weighted avg       0.66      0.67      0.66      3309\n",
      "\n"
     ]
    }
   ],
   "source": [
    "#testing the model\n",
    "y_pred_best = best_logistic.predict(X_test_actual)\n",
    "y_pred_prob_best = best_logistic.predict_proba(X_test_actual)[:,1]\n",
    "\n",
    "print('Accuracy: ', accuracy_score(y_test, y_pred_best))\n",
    "print('Precision: ', precision_score(y_test, y_pred_best))\n",
    "print('Recall: ', recall_score(y_test, y_pred_best))\n",
    "print('F1: ', f1_score(y_test, y_pred_best))\n",
    "print('ROC AUC:', roc_auc_score(y_test, y_pred_best))\n",
    "print('Confusion Matrix: \\n', confusion_matrix(y_test, y_pred_best))\n",
    "print('Classification Report: \\n', classification_report(y_test, y_pred_best))\n"
   ]
  }
 ],
 "metadata": {
  "kernelspec": {
   "display_name": "Python 3",
   "language": "python",
   "name": "python3"
  },
  "language_info": {
   "codemirror_mode": {
    "name": "ipython",
    "version": 3
   },
   "file_extension": ".py",
   "mimetype": "text/x-python",
   "name": "python",
   "nbconvert_exporter": "python",
   "pygments_lexer": "ipython3",
   "version": "3.12.1"
  }
 },
 "nbformat": 4,
 "nbformat_minor": 2
}
